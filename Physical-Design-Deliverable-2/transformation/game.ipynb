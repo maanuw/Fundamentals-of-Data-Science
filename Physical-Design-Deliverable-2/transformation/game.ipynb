{
 "cells": [
  {
   "cell_type": "markdown",
   "id": "d23ada14",
   "metadata": {},
   "source": [
    "# Notebook for the Game Dimension \n",
    "\n",
    "This notebook shows the Extraction and transformtion steps implemented for the Game dimension"
   ]
  },
  {
   "cell_type": "markdown",
   "id": "285f6ae2",
   "metadata": {},
   "source": [
    "## Required Imports"
   ]
  },
  {
   "cell_type": "code",
   "execution_count": 1,
   "id": "bd824727",
   "metadata": {},
   "outputs": [],
   "source": [
    "import pandas as pd\n",
    "import json\n",
    "import pandas as pd\n",
    "import numpy as np\n",
    "import matplotlib.pyplot as plt\n",
    "import seaborn as sns\n",
    "import missingno as mno\n",
    "from sklearn import linear_model\n",
    "from sklearn.linear_model import LinearRegression\n",
    "from sklearn.ensemble import RandomForestRegressor\n",
    "from sklearn.experimental import enable_iterative_imputer\n",
    "from sklearn.impute import IterativeImputer\n",
    "%matplotlib inline"
   ]
  },
  {
   "cell_type": "markdown",
   "id": "c00cddbf-3fd2-48d7-859d-64a91678358e",
   "metadata": {},
   "source": [
    "# Exploration:"
   ]
  },
  {
   "cell_type": "markdown",
   "id": "0a94a621",
   "metadata": {},
   "source": [
    "## Loading the dataset for game dimension."
   ]
  },
  {
   "cell_type": "code",
   "execution_count": 2,
   "id": "d819b524-cf78-45f4-bcc1-9e9eaf020156",
   "metadata": {},
   "outputs": [],
   "source": [
    "df_three = pd.read_json(\"../assets/game/playtime.json\")"
   ]
  },
  {
   "cell_type": "markdown",
   "id": "f6583aa9",
   "metadata": {},
   "source": [
    "- The descripition below shows the initial state of the dataset."
   ]
  },
  {
   "cell_type": "code",
   "execution_count": 3,
   "id": "0a0d2cfb-55b7-45a5-812c-a2d78a0df027",
   "metadata": {},
   "outputs": [
    {
     "name": "stdout",
     "output_type": "stream",
     "text": [
      "<class 'pandas.core.frame.DataFrame'>\n",
      "RangeIndex: 60393 entries, 0 to 60392\n",
      "Data columns (total 13 columns):\n",
      " #   Column                               Non-Null Count  Dtype  \n",
      "---  ------                               --------------  -----  \n",
      " 0   Name                                 60393 non-null  object \n",
      " 1   Stats                                60393 non-null  object \n",
      " 2   steam_app_id                         33002 non-null  float64\n",
      " 3   Release_date                         60393 non-null  object \n",
      " 4   Genres                               60393 non-null  object \n",
      " 5   Review_score                         60393 non-null  int64  \n",
      " 6   Single-Player_MainStory_Average      30039 non-null  object \n",
      " 7   Single-Player_Main+Extras_Average    20458 non-null  object \n",
      " 8   SinglePlayer_All_PlayStyles_Polled   36506 non-null  object \n",
      " 9   SinglePlayer_All_PlayStyles_Average  36506 non-null  object \n",
      " 10  SinglePlayer_All_PlayStyles_Median   36506 non-null  object \n",
      " 11  SinglePlayer_All_PlayStyles_Rushed   36506 non-null  object \n",
      " 12  SinglePlayer_All_PlayStyles_Leisure  36506 non-null  object \n",
      "dtypes: float64(1), int64(1), object(11)\n",
      "memory usage: 6.0+ MB\n"
     ]
    }
   ],
   "source": [
    "df_three.info()"
   ]
  },
  {
   "cell_type": "markdown",
   "id": "53b5bed5",
   "metadata": {},
   "source": [
    "### First Step: \n",
    "- We initially want to convert all nuumerical attributes/columns from object types to float types as this accomodates varios analytics processes.\n",
    "- Hence below we have a script `extract` that converts `Release_date` column values from string of type `DD-MM-YYYY` to a string of `YYYY` format."
   ]
  },
  {
   "cell_type": "code",
   "execution_count": 4,
   "id": "cf4a5aeb",
   "metadata": {},
   "outputs": [],
   "source": [
    "def extract(s):\n",
    "    return s.split('-')[0]\n",
    "df_three.Release_date = df_three.Release_date.astype(str).apply(lambda x : extract(x))"
   ]
  },
  {
   "cell_type": "markdown",
   "id": "0311cf42",
   "metadata": {},
   "source": [
    "- The summary below indicates the changed `Release_date` column."
   ]
  },
  {
   "cell_type": "code",
   "execution_count": 5,
   "id": "5ecd1bfb",
   "metadata": {},
   "outputs": [
    {
     "data": {
      "text/html": [
       "<div>\n",
       "<style scoped>\n",
       "    .dataframe tbody tr th:only-of-type {\n",
       "        vertical-align: middle;\n",
       "    }\n",
       "\n",
       "    .dataframe tbody tr th {\n",
       "        vertical-align: top;\n",
       "    }\n",
       "\n",
       "    .dataframe thead th {\n",
       "        text-align: right;\n",
       "    }\n",
       "</style>\n",
       "<table border=\"1\" class=\"dataframe\">\n",
       "  <thead>\n",
       "    <tr style=\"text-align: right;\">\n",
       "      <th></th>\n",
       "      <th>Name</th>\n",
       "      <th>Stats</th>\n",
       "      <th>steam_app_id</th>\n",
       "      <th>Release_date</th>\n",
       "      <th>Genres</th>\n",
       "      <th>Review_score</th>\n",
       "      <th>Single-Player_MainStory_Average</th>\n",
       "      <th>Single-Player_Main+Extras_Average</th>\n",
       "      <th>SinglePlayer_All_PlayStyles_Polled</th>\n",
       "      <th>SinglePlayer_All_PlayStyles_Average</th>\n",
       "      <th>SinglePlayer_All_PlayStyles_Median</th>\n",
       "      <th>SinglePlayer_All_PlayStyles_Rushed</th>\n",
       "      <th>SinglePlayer_All_PlayStyles_Leisure</th>\n",
       "    </tr>\n",
       "  </thead>\n",
       "  <tbody>\n",
       "    <tr>\n",
       "      <th>0</th>\n",
       "      <td>Borderlands 3</td>\n",
       "      <td>{'Additional Content': {'Moxxi's Heist of the ...</td>\n",
       "      <td>397540.0</td>\n",
       "      <td>2019</td>\n",
       "      <td>First-Person, Action, Shooter</td>\n",
       "      <td>76</td>\n",
       "      <td>23h 17m</td>\n",
       "      <td>47h 3m</td>\n",
       "      <td>1.4K</td>\n",
       "      <td>43h 24m</td>\n",
       "      <td>35h</td>\n",
       "      <td>25h 9m</td>\n",
       "      <td>268h 36m</td>\n",
       "    </tr>\n",
       "    <tr>\n",
       "      <th>1</th>\n",
       "      <td>Dying Light</td>\n",
       "      <td>{'Additional Content': {'The Following': {'Pol...</td>\n",
       "      <td>239140.0</td>\n",
       "      <td>2015</td>\n",
       "      <td>Action, Adventure, Open World, Survival Horror</td>\n",
       "      <td>78</td>\n",
       "      <td>18h 10m</td>\n",
       "      <td>37h 10m</td>\n",
       "      <td>1.9K</td>\n",
       "      <td>32h 9m</td>\n",
       "      <td>27h 47m</td>\n",
       "      <td>18h 15m</td>\n",
       "      <td>117h 29m</td>\n",
       "    </tr>\n",
       "    <tr>\n",
       "      <th>2</th>\n",
       "      <td>Middle-Earth: Shadow of War</td>\n",
       "      <td>{'Additional Content': {'Blade of Galadriel': ...</td>\n",
       "      <td>356190.0</td>\n",
       "      <td>2017</td>\n",
       "      <td>Action, Adventure</td>\n",
       "      <td>76</td>\n",
       "      <td>20h 47m</td>\n",
       "      <td>37h 1m</td>\n",
       "      <td>1.4K</td>\n",
       "      <td>38h 30m</td>\n",
       "      <td>34h</td>\n",
       "      <td>20h 7m</td>\n",
       "      <td>118h 7m</td>\n",
       "    </tr>\n",
       "    <tr>\n",
       "      <th>3</th>\n",
       "      <td>Counter-Strike: Global Offensive</td>\n",
       "      <td>{'Multi-Player': {'Co-Op': {'Polled': '34', 'A...</td>\n",
       "      <td>730.0</td>\n",
       "      <td>2012</td>\n",
       "      <td>First-Person, Shooter</td>\n",
       "      <td>74</td>\n",
       "      <td>NaN</td>\n",
       "      <td>NaN</td>\n",
       "      <td>NaN</td>\n",
       "      <td>NaN</td>\n",
       "      <td>NaN</td>\n",
       "      <td>NaN</td>\n",
       "      <td>NaN</td>\n",
       "    </tr>\n",
       "    <tr>\n",
       "      <th>4</th>\n",
       "      <td>Grand Theft Auto IV</td>\n",
       "      <td>{'Additional Content': {'The Lost and Damned':...</td>\n",
       "      <td>5152.0</td>\n",
       "      <td>2008</td>\n",
       "      <td>Third-Person, Action, Sandbox, Shooter</td>\n",
       "      <td>82</td>\n",
       "      <td>27h 37m</td>\n",
       "      <td>41h 24m</td>\n",
       "      <td>2K</td>\n",
       "      <td>37h 48m</td>\n",
       "      <td>32h</td>\n",
       "      <td>21h 27m</td>\n",
       "      <td>152h 27m</td>\n",
       "    </tr>\n",
       "  </tbody>\n",
       "</table>\n",
       "</div>"
      ],
      "text/plain": [
       "                               Name  \\\n",
       "0                     Borderlands 3   \n",
       "1                       Dying Light   \n",
       "2       Middle-Earth: Shadow of War   \n",
       "3  Counter-Strike: Global Offensive   \n",
       "4               Grand Theft Auto IV   \n",
       "\n",
       "                                               Stats  steam_app_id  \\\n",
       "0  {'Additional Content': {'Moxxi's Heist of the ...      397540.0   \n",
       "1  {'Additional Content': {'The Following': {'Pol...      239140.0   \n",
       "2  {'Additional Content': {'Blade of Galadriel': ...      356190.0   \n",
       "3  {'Multi-Player': {'Co-Op': {'Polled': '34', 'A...         730.0   \n",
       "4  {'Additional Content': {'The Lost and Damned':...        5152.0   \n",
       "\n",
       "  Release_date                                          Genres  Review_score  \\\n",
       "0         2019                   First-Person, Action, Shooter            76   \n",
       "1         2015  Action, Adventure, Open World, Survival Horror            78   \n",
       "2         2017                               Action, Adventure            76   \n",
       "3         2012                           First-Person, Shooter            74   \n",
       "4         2008          Third-Person, Action, Sandbox, Shooter            82   \n",
       "\n",
       "  Single-Player_MainStory_Average Single-Player_Main+Extras_Average  \\\n",
       "0                         23h 17m                            47h 3m   \n",
       "1                         18h 10m                           37h 10m   \n",
       "2                         20h 47m                            37h 1m   \n",
       "3                             NaN                               NaN   \n",
       "4                         27h 37m                           41h 24m   \n",
       "\n",
       "  SinglePlayer_All_PlayStyles_Polled SinglePlayer_All_PlayStyles_Average  \\\n",
       "0                               1.4K                             43h 24m   \n",
       "1                               1.9K                              32h 9m   \n",
       "2                               1.4K                             38h 30m   \n",
       "3                                NaN                                 NaN   \n",
       "4                                 2K                             37h 48m   \n",
       "\n",
       "  SinglePlayer_All_PlayStyles_Median SinglePlayer_All_PlayStyles_Rushed  \\\n",
       "0                                35h                             25h 9m   \n",
       "1                            27h 47m                            18h 15m   \n",
       "2                                34h                             20h 7m   \n",
       "3                                NaN                                NaN   \n",
       "4                                32h                            21h 27m   \n",
       "\n",
       "  SinglePlayer_All_PlayStyles_Leisure  \n",
       "0                            268h 36m  \n",
       "1                            117h 29m  \n",
       "2                             118h 7m  \n",
       "3                                 NaN  \n",
       "4                            152h 27m  "
      ]
     },
     "execution_count": 5,
     "metadata": {},
     "output_type": "execute_result"
    }
   ],
   "source": [
    "df_three.head()"
   ]
  },
  {
   "cell_type": "markdown",
   "id": "4be8b481",
   "metadata": {},
   "source": [
    "- Next we convert the `Release_date` column to integer from object type."
   ]
  },
  {
   "cell_type": "code",
   "execution_count": 6,
   "id": "3a6d900d",
   "metadata": {},
   "outputs": [
    {
     "name": "stdout",
     "output_type": "stream",
     "text": [
      "<class 'pandas.core.frame.DataFrame'>\n",
      "RangeIndex: 60393 entries, 0 to 60392\n",
      "Data columns (total 13 columns):\n",
      " #   Column                               Non-Null Count  Dtype  \n",
      "---  ------                               --------------  -----  \n",
      " 0   Name                                 60393 non-null  object \n",
      " 1   Stats                                60393 non-null  object \n",
      " 2   steam_app_id                         33002 non-null  float64\n",
      " 3   Release_date                         60393 non-null  int64  \n",
      " 4   Genres                               60393 non-null  object \n",
      " 5   Review_score                         60393 non-null  int64  \n",
      " 6   Single-Player_MainStory_Average      30039 non-null  object \n",
      " 7   Single-Player_Main+Extras_Average    20458 non-null  object \n",
      " 8   SinglePlayer_All_PlayStyles_Polled   36506 non-null  object \n",
      " 9   SinglePlayer_All_PlayStyles_Average  36506 non-null  object \n",
      " 10  SinglePlayer_All_PlayStyles_Median   36506 non-null  object \n",
      " 11  SinglePlayer_All_PlayStyles_Rushed   36506 non-null  object \n",
      " 12  SinglePlayer_All_PlayStyles_Leisure  36506 non-null  object \n",
      "dtypes: float64(1), int64(2), object(10)\n",
      "memory usage: 6.0+ MB\n"
     ]
    }
   ],
   "source": [
    "# Convert Release_date column from object to integer.\n",
    "df_three['Release_date'] = df_three['Release_date'].astype('int')\n",
    "df_three.info()"
   ]
  },
  {
   "cell_type": "markdown",
   "id": "bf0db70a",
   "metadata": {},
   "source": [
    "- As per the current market trends and taking into consideration various other pop culture trends we decide to remove data related to any game that was rrelease beefore the yeaar `2000`.\n",
    "- Moreover lack of relevant data for such games, made us finalise this decision."
   ]
  },
  {
   "cell_type": "code",
   "execution_count": 7,
   "id": "ecd5b541",
   "metadata": {},
   "outputs": [],
   "source": [
    "# Remove all entries that have a Release_date(yeear) of less than 2000.\n",
    "df_three = df_three[df_three['Release_date'] > 2000]"
   ]
  },
  {
   "cell_type": "code",
   "execution_count": 8,
   "id": "3f87b66c",
   "metadata": {},
   "outputs": [
    {
     "name": "stdout",
     "output_type": "stream",
     "text": [
      "<class 'pandas.core.frame.DataFrame'>\n",
      "Int64Index: 46355 entries, 0 to 60391\n",
      "Data columns (total 13 columns):\n",
      " #   Column                               Non-Null Count  Dtype  \n",
      "---  ------                               --------------  -----  \n",
      " 0   Name                                 46355 non-null  object \n",
      " 1   Stats                                46355 non-null  object \n",
      " 2   steam_app_id                         31297 non-null  float64\n",
      " 3   Release_date                         46355 non-null  int64  \n",
      " 4   Genres                               46355 non-null  object \n",
      " 5   Review_score                         46355 non-null  int64  \n",
      " 6   Single-Player_MainStory_Average      23248 non-null  object \n",
      " 7   Single-Player_Main+Extras_Average    16974 non-null  object \n",
      " 8   SinglePlayer_All_PlayStyles_Polled   28769 non-null  object \n",
      " 9   SinglePlayer_All_PlayStyles_Average  28769 non-null  object \n",
      " 10  SinglePlayer_All_PlayStyles_Median   28769 non-null  object \n",
      " 11  SinglePlayer_All_PlayStyles_Rushed   28769 non-null  object \n",
      " 12  SinglePlayer_All_PlayStyles_Leisure  28769 non-null  object \n",
      "dtypes: float64(1), int64(2), object(10)\n",
      "memory usage: 5.0+ MB\n"
     ]
    }
   ],
   "source": [
    "# Now we have reduced total entries from approx 60000 to 46000.\n",
    "df_three.info()"
   ]
  },
  {
   "cell_type": "markdown",
   "id": "8d891f59",
   "metadata": {},
   "source": [
    "- In the next 5-6 steps we convert the tables(from type object to float):\n",
    "- SinglePlayer_All_PlayStyles_Polled\n",
    "- SinglePlayer_All_PlayStyles_Average\n",
    "- SinglePlayer_All_PlayStyles_Median\n",
    "- SinglePlayer_All_PlayStyles_Rushed\n",
    "- SinglePlayer_All_PlayStyles_Leisure\n",
    "> We take transformation steps where we are converting all time values from `hh mm` format to just minutes float type.\n",
    "> Moreover, we also convert any units to actual digits. for example `1.4k` -> `1400`."
   ]
  },
  {
   "cell_type": "code",
   "execution_count": 9,
   "id": "824b9523",
   "metadata": {},
   "outputs": [],
   "source": [
    "df_test = df_three"
   ]
  },
  {
   "cell_type": "code",
   "execution_count": 10,
   "id": "ddaebc02",
   "metadata": {},
   "outputs": [],
   "source": [
    "# Convert object to float for singleplayer gametime polled column\n",
    "def o_to_f(x):\n",
    "    t=str(x)\n",
    "    if 'K' in t:\n",
    "        return float(t.replace('K','')) * 1000\n",
    "    else:\n",
    "        return float(t)\n",
    "\n",
    "df_test['SinglePlayer_All_PlayStyles_Polled'] = df_test['SinglePlayer_All_PlayStyles_Polled'].apply(lambda x: o_to_f(x))"
   ]
  },
  {
   "cell_type": "code",
   "execution_count": 11,
   "id": "2d00f7f3",
   "metadata": {},
   "outputs": [],
   "source": [
    "# Convert object to float for singleplayer gametime Average column.\n",
    "def o_to_f(x):\n",
    "    t=str(x)\n",
    "    if \" \" in t:\n",
    "        t = t.split(\" \")\n",
    "        if len(t) == 2:\n",
    "            h = float(t[0].replace(\"h\", \"\")) * 60\n",
    "            m = float(t[1].replace(\"m\", \"\"))\n",
    "            return h+m\n",
    "        elif len(t) == 1:\n",
    "            if \"m\" in t[1]:\n",
    "                n = float(t[1].replace(\"m\", \"\"))\n",
    "                return n\n",
    "            elif \"h\" in t[1]:\n",
    "                n = float(t[1].replace(\"h\", \"\"))\n",
    "                return n\n",
    "    elif \"nan\" not in t:\n",
    "        if \"m\" in t:\n",
    "            n = float(t.replace(\"m\", \"\"))\n",
    "            return n\n",
    "        elif \"h\" in t:\n",
    "            n = float(t.replace(\"h\", \"\"))\n",
    "            return n\n",
    "    else:\n",
    "        return float(t)\n",
    "    \n",
    "    \n",
    "df_test['SinglePlayer_All_PlayStyles_Average'] = df_test['SinglePlayer_All_PlayStyles_Average'].apply(lambda x: o_to_f(x))\n",
    "df_test_two = df_test\n"
   ]
  },
  {
   "cell_type": "code",
   "execution_count": 12,
   "id": "754524e2",
   "metadata": {},
   "outputs": [],
   "source": [
    "# Convert object to float for singleplayer gametime Median column.\n",
    "def o_to_f(x):\n",
    "    t=str(x)\n",
    "    if \" \" in t:\n",
    "        t = t.split(\" \")\n",
    "        if len(t) == 2:\n",
    "            h = float(t[0].replace(\"h\", \"\")) * 60\n",
    "            m = float(t[1].replace(\"m\", \"\"))\n",
    "            return h+m\n",
    "        elif len(t) == 1:\n",
    "            if \"m\" in t[1]:\n",
    "                n = float(t[1].replace(\"m\", \"\"))\n",
    "                return n\n",
    "            elif \"h\" in t[1]:\n",
    "                n = float(t[1].replace(\"h\", \"\"))\n",
    "                return n\n",
    "    elif \"nan\" not in t:\n",
    "        if \"m\" in t:\n",
    "            n = float(t.replace(\"m\", \"\"))\n",
    "            return n\n",
    "        elif \"h\" in t:\n",
    "            n = float(t.replace(\"h\", \"\"))\n",
    "            return n\n",
    "    else:\n",
    "        return float(t)\n",
    "    \n",
    "    \n",
    "df_test_two['SinglePlayer_All_PlayStyles_Median'] = df_test_two['SinglePlayer_All_PlayStyles_Median'].apply(lambda x: o_to_f(x))\n",
    "df_test_three = df_test_two\n"
   ]
  },
  {
   "cell_type": "code",
   "execution_count": 13,
   "id": "7360c904",
   "metadata": {},
   "outputs": [],
   "source": [
    "# Convert object to float for singleplayer gametime Rushed column.\n",
    "def o_to_f(x):\n",
    "    t=str(x)\n",
    "    if \" \" in t:\n",
    "        t = t.split(\" \")\n",
    "        if len(t) == 2:\n",
    "            h = float(t[0].replace(\"h\", \"\")) * 60\n",
    "            m = float(t[1].replace(\"m\", \"\"))\n",
    "            return h+m\n",
    "        elif len(t) == 1:\n",
    "            if \"m\" in t[1]:\n",
    "                n = float(t[1].replace(\"m\", \"\"))\n",
    "                return n\n",
    "            elif \"h\" in t[1]:\n",
    "                n = float(t[1].replace(\"h\", \"\"))\n",
    "                return n\n",
    "    elif \"nan\" not in t:\n",
    "        if \"m\" in t:\n",
    "            n = float(t.replace(\"m\", \"\"))\n",
    "            return n\n",
    "        elif \"h\" in t:\n",
    "            n = float(t.replace(\"h\", \"\"))\n",
    "            return n\n",
    "    else:\n",
    "        return float(t)\n",
    "    \n",
    "    \n",
    "df_test_three['SinglePlayer_All_PlayStyles_Rushed'] = df_test_three['SinglePlayer_All_PlayStyles_Rushed'].apply(lambda x: o_to_f(x))\n",
    "df_test_four = df_test_three\n"
   ]
  },
  {
   "cell_type": "code",
   "execution_count": 14,
   "id": "ab6e5826",
   "metadata": {},
   "outputs": [],
   "source": [
    "# Convert object to float for singleplayer gametime Leisure column.\n",
    "def o_to_f(x):\n",
    "    t=str(x)\n",
    "    if \" \" in t:\n",
    "        t = t.split(\" \")\n",
    "        if len(t) == 2:\n",
    "            h = float(t[0].replace(\"h\", \"\")) * 60\n",
    "            m = float(t[1].replace(\"m\", \"\"))\n",
    "            return h+m\n",
    "        elif len(t) == 1:\n",
    "            if \"m\" in t[1]:\n",
    "                n = float(t[1].replace(\"m\", \"\"))\n",
    "                return n\n",
    "            elif \"h\" in t[1]:\n",
    "                n = float(t[1].replace(\"h\", \"\"))\n",
    "                return n\n",
    "    elif \"nan\" not in t:\n",
    "        if \"m\" in t:\n",
    "            n = float(t.replace(\"m\", \"\"))\n",
    "            return n\n",
    "        elif \"h\" in t:\n",
    "            n = float(t.replace(\"h\", \"\"))\n",
    "            return n\n",
    "    else:\n",
    "        return float(t)\n",
    "    \n",
    "    \n",
    "df_test_four['SinglePlayer_All_PlayStyles_Leisure'] = df_test_four['SinglePlayer_All_PlayStyles_Leisure'].apply(lambda x: o_to_f(x))\n",
    "df_test_five = df_test_four\n"
   ]
  },
  {
   "cell_type": "code",
   "execution_count": 15,
   "id": "22cbd79a",
   "metadata": {},
   "outputs": [
    {
     "name": "stdout",
     "output_type": "stream",
     "text": [
      "<class 'pandas.core.frame.DataFrame'>\n",
      "Int64Index: 46355 entries, 0 to 60391\n",
      "Data columns (total 13 columns):\n",
      " #   Column                               Non-Null Count  Dtype  \n",
      "---  ------                               --------------  -----  \n",
      " 0   Name                                 46355 non-null  object \n",
      " 1   Stats                                46355 non-null  object \n",
      " 2   steam_app_id                         31297 non-null  float64\n",
      " 3   Release_date                         46355 non-null  int64  \n",
      " 4   Genres                               46355 non-null  object \n",
      " 5   Review_score                         46355 non-null  int64  \n",
      " 6   Single-Player_MainStory_Average      23248 non-null  object \n",
      " 7   Single-Player_Main+Extras_Average    16974 non-null  object \n",
      " 8   SinglePlayer_All_PlayStyles_Polled   28769 non-null  float64\n",
      " 9   SinglePlayer_All_PlayStyles_Average  28759 non-null  float64\n",
      " 10  SinglePlayer_All_PlayStyles_Median   28761 non-null  float64\n",
      " 11  SinglePlayer_All_PlayStyles_Rushed   28754 non-null  float64\n",
      " 12  SinglePlayer_All_PlayStyles_Leisure  28760 non-null  float64\n",
      "dtypes: float64(6), int64(2), object(5)\n",
      "memory usage: 5.0+ MB\n"
     ]
    }
   ],
   "source": [
    "df_test_five.info()"
   ]
  },
  {
   "cell_type": "markdown",
   "id": "b074c28c",
   "metadata": {},
   "source": [
    "- We drop any unwanted irrelevant attributes as below."
   ]
  },
  {
   "cell_type": "code",
   "execution_count": 16,
   "id": "f2e0198c",
   "metadata": {},
   "outputs": [],
   "source": [
    "game = df_test_five.drop(['Stats', 'steam_app_id', 'Single-Player_MainStory_Average', 'Single-Player_Main+Extras_Average'], axis=1)"
   ]
  },
  {
   "cell_type": "code",
   "execution_count": 17,
   "id": "9baef2b5",
   "metadata": {},
   "outputs": [
    {
     "name": "stdout",
     "output_type": "stream",
     "text": [
      "<class 'pandas.core.frame.DataFrame'>\n",
      "Int64Index: 46355 entries, 0 to 60391\n",
      "Data columns (total 9 columns):\n",
      " #   Column                               Non-Null Count  Dtype  \n",
      "---  ------                               --------------  -----  \n",
      " 0   Name                                 46355 non-null  object \n",
      " 1   Release_date                         46355 non-null  int64  \n",
      " 2   Genres                               46355 non-null  object \n",
      " 3   Review_score                         46355 non-null  int64  \n",
      " 4   SinglePlayer_All_PlayStyles_Polled   28769 non-null  float64\n",
      " 5   SinglePlayer_All_PlayStyles_Average  28759 non-null  float64\n",
      " 6   SinglePlayer_All_PlayStyles_Median   28761 non-null  float64\n",
      " 7   SinglePlayer_All_PlayStyles_Rushed   28754 non-null  float64\n",
      " 8   SinglePlayer_All_PlayStyles_Leisure  28760 non-null  float64\n",
      "dtypes: float64(5), int64(2), object(2)\n",
      "memory usage: 3.5+ MB\n"
     ]
    }
   ],
   "source": [
    "game.info()"
   ]
  },
  {
   "cell_type": "code",
   "execution_count": 18,
   "id": "2f3f8641",
   "metadata": {},
   "outputs": [
    {
     "data": {
      "text/html": [
       "<div>\n",
       "<style scoped>\n",
       "    .dataframe tbody tr th:only-of-type {\n",
       "        vertical-align: middle;\n",
       "    }\n",
       "\n",
       "    .dataframe tbody tr th {\n",
       "        vertical-align: top;\n",
       "    }\n",
       "\n",
       "    .dataframe thead th {\n",
       "        text-align: right;\n",
       "    }\n",
       "</style>\n",
       "<table border=\"1\" class=\"dataframe\">\n",
       "  <thead>\n",
       "    <tr style=\"text-align: right;\">\n",
       "      <th></th>\n",
       "      <th>Release_date</th>\n",
       "      <th>Review_score</th>\n",
       "      <th>SinglePlayer_All_PlayStyles_Polled</th>\n",
       "      <th>SinglePlayer_All_PlayStyles_Average</th>\n",
       "      <th>SinglePlayer_All_PlayStyles_Median</th>\n",
       "      <th>SinglePlayer_All_PlayStyles_Rushed</th>\n",
       "      <th>SinglePlayer_All_PlayStyles_Leisure</th>\n",
       "    </tr>\n",
       "  </thead>\n",
       "  <tbody>\n",
       "    <tr>\n",
       "      <th>count</th>\n",
       "      <td>46355.000000</td>\n",
       "      <td>46355.000000</td>\n",
       "      <td>28769.000000</td>\n",
       "      <td>28759.000000</td>\n",
       "      <td>28761.000000</td>\n",
       "      <td>28754.000000</td>\n",
       "      <td>28760.000000</td>\n",
       "    </tr>\n",
       "    <tr>\n",
       "      <th>mean</th>\n",
       "      <td>2014.806774</td>\n",
       "      <td>39.158775</td>\n",
       "      <td>59.935451</td>\n",
       "      <td>814.441323</td>\n",
       "      <td>460.368763</td>\n",
       "      <td>556.837831</td>\n",
       "      <td>1668.922705</td>\n",
       "    </tr>\n",
       "    <tr>\n",
       "      <th>std</th>\n",
       "      <td>5.453828</td>\n",
       "      <td>33.061904</td>\n",
       "      <td>294.731197</td>\n",
       "      <td>4844.219581</td>\n",
       "      <td>3988.656566</td>\n",
       "      <td>4059.025557</td>\n",
       "      <td>9181.751426</td>\n",
       "    </tr>\n",
       "    <tr>\n",
       "      <th>min</th>\n",
       "      <td>2001.000000</td>\n",
       "      <td>0.000000</td>\n",
       "      <td>1.000000</td>\n",
       "      <td>1.000000</td>\n",
       "      <td>1.000000</td>\n",
       "      <td>1.000000</td>\n",
       "      <td>1.000000</td>\n",
       "    </tr>\n",
       "    <tr>\n",
       "      <th>25%</th>\n",
       "      <td>2012.000000</td>\n",
       "      <td>0.000000</td>\n",
       "      <td>2.000000</td>\n",
       "      <td>73.000000</td>\n",
       "      <td>20.000000</td>\n",
       "      <td>61.000000</td>\n",
       "      <td>93.000000</td>\n",
       "    </tr>\n",
       "    <tr>\n",
       "      <th>50%</th>\n",
       "      <td>2016.000000</td>\n",
       "      <td>50.000000</td>\n",
       "      <td>4.000000</td>\n",
       "      <td>254.000000</td>\n",
       "      <td>110.000000</td>\n",
       "      <td>199.000000</td>\n",
       "      <td>349.500000</td>\n",
       "    </tr>\n",
       "    <tr>\n",
       "      <th>75%</th>\n",
       "      <td>2019.000000</td>\n",
       "      <td>70.000000</td>\n",
       "      <td>19.000000</td>\n",
       "      <td>685.000000</td>\n",
       "      <td>390.000000</td>\n",
       "      <td>506.000000</td>\n",
       "      <td>1089.250000</td>\n",
       "    </tr>\n",
       "    <tr>\n",
       "      <th>max</th>\n",
       "      <td>2024.000000</td>\n",
       "      <td>100.000000</td>\n",
       "      <td>9500.000000</td>\n",
       "      <td>596970.000000</td>\n",
       "      <td>596970.000000</td>\n",
       "      <td>595485.000000</td>\n",
       "      <td>598455.000000</td>\n",
       "    </tr>\n",
       "  </tbody>\n",
       "</table>\n",
       "</div>"
      ],
      "text/plain": [
       "       Release_date  Review_score  SinglePlayer_All_PlayStyles_Polled  \\\n",
       "count  46355.000000  46355.000000                        28769.000000   \n",
       "mean    2014.806774     39.158775                           59.935451   \n",
       "std        5.453828     33.061904                          294.731197   \n",
       "min     2001.000000      0.000000                            1.000000   \n",
       "25%     2012.000000      0.000000                            2.000000   \n",
       "50%     2016.000000     50.000000                            4.000000   \n",
       "75%     2019.000000     70.000000                           19.000000   \n",
       "max     2024.000000    100.000000                         9500.000000   \n",
       "\n",
       "       SinglePlayer_All_PlayStyles_Average  \\\n",
       "count                         28759.000000   \n",
       "mean                            814.441323   \n",
       "std                            4844.219581   \n",
       "min                               1.000000   \n",
       "25%                              73.000000   \n",
       "50%                             254.000000   \n",
       "75%                             685.000000   \n",
       "max                          596970.000000   \n",
       "\n",
       "       SinglePlayer_All_PlayStyles_Median  SinglePlayer_All_PlayStyles_Rushed  \\\n",
       "count                        28761.000000                        28754.000000   \n",
       "mean                           460.368763                          556.837831   \n",
       "std                           3988.656566                         4059.025557   \n",
       "min                              1.000000                            1.000000   \n",
       "25%                             20.000000                           61.000000   \n",
       "50%                            110.000000                          199.000000   \n",
       "75%                            390.000000                          506.000000   \n",
       "max                         596970.000000                       595485.000000   \n",
       "\n",
       "       SinglePlayer_All_PlayStyles_Leisure  \n",
       "count                         28760.000000  \n",
       "mean                           1668.922705  \n",
       "std                            9181.751426  \n",
       "min                               1.000000  \n",
       "25%                              93.000000  \n",
       "50%                             349.500000  \n",
       "75%                            1089.250000  \n",
       "max                          598455.000000  "
      ]
     },
     "execution_count": 18,
     "metadata": {},
     "output_type": "execute_result"
    }
   ],
   "source": [
    "game.describe()"
   ]
  },
  {
   "cell_type": "markdown",
   "id": "e7b6de12",
   "metadata": {},
   "source": [
    "- We want to check if our data frame has any null values and we do that as follows:"
   ]
  },
  {
   "cell_type": "code",
   "execution_count": 19,
   "id": "64bbe593",
   "metadata": {},
   "outputs": [
    {
     "data": {
      "text/plain": [
       "Release_date                               0\n",
       "Genres                                     0\n",
       "Review_score                               0\n",
       "SinglePlayer_All_PlayStyles_Polled     17586\n",
       "SinglePlayer_All_PlayStyles_Average    17596\n",
       "SinglePlayer_All_PlayStyles_Median     17594\n",
       "SinglePlayer_All_PlayStyles_Rushed     17601\n",
       "SinglePlayer_All_PlayStyles_Leisure    17595\n",
       "dtype: int64"
      ]
     },
     "execution_count": 19,
     "metadata": {},
     "output_type": "execute_result"
    }
   ],
   "source": [
    "game.isnull().sum()[1:9]"
   ]
  },
  {
   "cell_type": "code",
   "execution_count": 20,
   "id": "bf6a7afc",
   "metadata": {},
   "outputs": [
    {
     "name": "stdout",
     "output_type": "stream",
     "text": [
      "<class 'pandas.core.frame.DataFrame'>\n",
      "Int64Index: 46355 entries, 0 to 60391\n",
      "Data columns (total 9 columns):\n",
      " #   Column                               Non-Null Count  Dtype  \n",
      "---  ------                               --------------  -----  \n",
      " 0   Name                                 46355 non-null  object \n",
      " 1   Release_date                         46355 non-null  int64  \n",
      " 2   Genres                               46355 non-null  object \n",
      " 3   Review_score                         46355 non-null  int64  \n",
      " 4   SinglePlayer_All_PlayStyles_Polled   28769 non-null  float64\n",
      " 5   SinglePlayer_All_PlayStyles_Average  28759 non-null  float64\n",
      " 6   SinglePlayer_All_PlayStyles_Median   28761 non-null  float64\n",
      " 7   SinglePlayer_All_PlayStyles_Rushed   28754 non-null  float64\n",
      " 8   SinglePlayer_All_PlayStyles_Leisure  28760 non-null  float64\n",
      "dtypes: float64(5), int64(2), object(2)\n",
      "memory usage: 3.5+ MB\n"
     ]
    }
   ],
   "source": [
    "game.info()"
   ]
  },
  {
   "cell_type": "markdown",
   "id": "4b38c496",
   "metadata": {},
   "source": [
    "# Filling Missing Data using Sci-Kit's Iterative Imputator\n",
    "\n",
    "- We use the Iterative Imputator to help us fill in the missing values in all our columns, this iterator uses the random forest regressor to estimate and predict values by considering values from all other values of other attributes.\n",
    "- For reference [Link to documentation](https://scikit-learn.org/stable/modules/impute.html)"
   ]
  },
  {
   "cell_type": "code",
   "execution_count": null,
   "id": "c06b9ae1",
   "metadata": {},
   "outputs": [
    {
     "name": "stdout",
     "output_type": "stream",
     "text": [
      "[IterativeImputer] Completing matrix with shape (46355, 7)\n",
      "[IterativeImputer] Ending imputation round 1/10, elapsed time 78.53\n",
      "[IterativeImputer] Change: 2285.3671152977668, scaled tolerance: 598.455 \n",
      "[IterativeImputer] Ending imputation round 2/10, elapsed time 163.13\n",
      "[IterativeImputer] Change: 7915.790000000001, scaled tolerance: 598.455 \n",
      "[IterativeImputer] Ending imputation round 3/10, elapsed time 246.89\n",
      "[IterativeImputer] Change: 6426.099999999999, scaled tolerance: 598.455 \n",
      "[IterativeImputer] Ending imputation round 4/10, elapsed time 330.26\n",
      "[IterativeImputer] Change: 7005.969999999999, scaled tolerance: 598.455 \n",
      "[IterativeImputer] Ending imputation round 5/10, elapsed time 412.65\n",
      "[IterativeImputer] Change: 10730.01, scaled tolerance: 598.455 \n",
      "[IterativeImputer] Ending imputation round 6/10, elapsed time 497.83\n",
      "[IterativeImputer] Change: 11155.01, scaled tolerance: 598.455 \n",
      "[IterativeImputer] Ending imputation round 7/10, elapsed time 583.04\n",
      "[IterativeImputer] Change: 10652.720000000001, scaled tolerance: 598.455 \n",
      "[IterativeImputer] Ending imputation round 8/10, elapsed time 668.02\n",
      "[IterativeImputer] Change: 10480.14, scaled tolerance: 598.455 \n"
     ]
    }
   ],
   "source": [
    "imp_mean = IterativeImputer(estimator=RandomForestRegressor(), random_state=0, verbose=2)\n",
    "features = ['Release_date','Review_score','SinglePlayer_All_PlayStyles_Polled','SinglePlayer_All_PlayStyles_Average','SinglePlayer_All_PlayStyles_Median','SinglePlayer_All_PlayStyles_Rushed','SinglePlayer_All_PlayStyles_Leisure']\n",
    "imp_mean.fit(game[features])"
   ]
  },
  {
   "cell_type": "markdown",
   "id": "8e95023d",
   "metadata": {},
   "source": [
    "- We concatenate the new dataframe containing the filled missing values with the old dataframe."
   ]
  },
  {
   "cell_type": "code",
   "execution_count": null,
   "id": "6d0017de",
   "metadata": {},
   "outputs": [],
   "source": [
    "gameTransformed = pd.concat([game,pd.DataFrame(imp_mean.transform(game[features]))], axis=1, join='inner')"
   ]
  },
  {
   "cell_type": "markdown",
   "id": "7e0deac6",
   "metadata": {},
   "source": [
    "- Summary below:"
   ]
  },
  {
   "cell_type": "code",
   "execution_count": null,
   "id": "aa791eb8",
   "metadata": {},
   "outputs": [],
   "source": [
    "gameTransformed.head()"
   ]
  },
  {
   "cell_type": "markdown",
   "id": "c793678e",
   "metadata": {},
   "source": [
    "- Another look at our new concatenated dataframe."
   ]
  },
  {
   "cell_type": "code",
   "execution_count": null,
   "id": "e37d89e1",
   "metadata": {},
   "outputs": [],
   "source": [
    "gameTransformed.info()"
   ]
  },
  {
   "cell_type": "markdown",
   "id": "a0955f51",
   "metadata": {},
   "source": [
    "- Drop the redundant and extra tables."
   ]
  },
  {
   "cell_type": "code",
   "execution_count": null,
   "id": "c75fc97c",
   "metadata": {},
   "outputs": [],
   "source": [
    "gameTransformed = gameTransformed.drop([0, 1], axis=1)"
   ]
  },
  {
   "cell_type": "code",
   "execution_count": null,
   "id": "9dac742b",
   "metadata": {},
   "outputs": [],
   "source": [
    "gameTransformed = gameTransformed.drop(['SinglePlayer_All_PlayStyles_Polled','SinglePlayer_All_PlayStyles_Average','SinglePlayer_All_PlayStyles_Median','SinglePlayer_All_PlayStyles_Rushed','SinglePlayer_All_PlayStyles_Leisure'], axis=1)\n",
    "gameTransformed.rename(columns = {2:'SinglePlayer_All_PlayStyles_Polled', 3:'SinglePlayer_All_PlayStyles_Average', 4:'SinglePlayer_All_PlayStyles_Median', 5:'SinglePlayer_All_PlayStyles_Rushed', 6:'SinglePlayer_All_PlayStyles_Leisure'}, inplace = True)"
   ]
  },
  {
   "cell_type": "markdown",
   "id": "84e1cf70",
   "metadata": {},
   "source": [
    "- Our game dimension data finally transformed."
   ]
  },
  {
   "cell_type": "code",
   "execution_count": null,
   "id": "de534686",
   "metadata": {},
   "outputs": [],
   "source": [
    "gameTransformed.info()"
   ]
  },
  {
   "cell_type": "markdown",
   "id": "60106e2d",
   "metadata": {},
   "source": [
    "- Generate a csv file."
   ]
  },
  {
   "cell_type": "code",
   "execution_count": null,
   "id": "b3f86363",
   "metadata": {},
   "outputs": [],
   "source": [
    "# Write to CSV.\n",
    "gameTransformed.to_csv('game_dimension.csv')"
   ]
  }
 ],
 "metadata": {
  "kernelspec": {
   "display_name": "Python 3 (ipykernel)",
   "language": "python",
   "name": "python3"
  },
  "language_info": {
   "codemirror_mode": {
    "name": "ipython",
    "version": 3
   },
   "file_extension": ".py",
   "mimetype": "text/x-python",
   "name": "python",
   "nbconvert_exporter": "python",
   "pygments_lexer": "ipython3",
   "version": "3.10.4"
  }
 },
 "nbformat": 4,
 "nbformat_minor": 5
}
