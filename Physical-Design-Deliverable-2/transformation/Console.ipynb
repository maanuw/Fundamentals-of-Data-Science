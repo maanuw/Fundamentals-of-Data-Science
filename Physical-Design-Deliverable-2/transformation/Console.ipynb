{
 "cells": [
  {
   "cell_type": "code",
   "execution_count": 1,
   "id": "49e2bb6e",
   "metadata": {},
   "outputs": [],
   "source": [
    "import pandas as pd\n",
    "import numpy as np\n",
    "\n",
    "# Define the path to the CSV file\n",
    "file_path = 'C:/Users/yfmad/Fundamentals-of-Data-Science/Physical-Design-Deliverable-2/assets/console/console.csv'"
   ]
  },
  {
   "cell_type": "code",
   "execution_count": 2,
   "id": "fe59c6a2",
   "metadata": {},
   "outputs": [],
   "source": [
    "# Read the CSV file\n",
    "df = pd.read_csv(file_path)"
   ]
  },
  {
   "cell_type": "code",
   "execution_count": 3,
   "id": "1ffbb6d3",
   "metadata": {},
   "outputs": [],
   "source": [
    "# Calculate the average value of the \"Release_Year\" column\n",
    "avg_release_year = df['Release_Year'].mean()"
   ]
  },
  {
   "cell_type": "code",
   "execution_count": 4,
   "id": "7f7bea72",
   "metadata": {},
   "outputs": [],
   "source": [
    "# Replace any release year value that is inferior to 1940 and superior to 2023 with the average value of the column\n",
    "df.loc[df['Release_Year'] < 1940, 'Release_Year'] = avg_release_year\n",
    "df.loc[df['Release_Year'] > 2023, 'Release_Year'] = avg_release_year"
   ]
  },
  {
   "cell_type": "code",
   "execution_count": 5,
   "id": "9a22cfd6",
   "metadata": {},
   "outputs": [],
   "source": [
    "# Replace any empty or missing release year value with the average value of the column\n",
    "df['Release_Year'] = df['Release_Year'].replace('', np.nan)\n",
    "df['Release_Year'] = df['Release_Year'].fillna(avg_release_year)"
   ]
  },
  {
   "cell_type": "code",
   "execution_count": 6,
   "id": "13d3140f",
   "metadata": {},
   "outputs": [],
   "source": [
    "# Convert Release_Year column to integer values\n",
    "df['Release_Year'] = df['Release_Year'].astype(int)"
   ]
  },
  {
   "cell_type": "code",
   "execution_count": 7,
   "id": "5029e81d",
   "metadata": {},
   "outputs": [],
   "source": [
    "# Cleaning Sales column\n",
    "\n",
    "# Calculate the average value of the \"Sales\" column\n",
    "avg_sales_year = df['Sales'].mean()"
   ]
  },
  {
   "cell_type": "code",
   "execution_count": 8,
   "id": "786176e6",
   "metadata": {},
   "outputs": [],
   "source": [
    "# Replace any sales value that is inferior to 0 with the average value of the column\n",
    "df.loc[df['Sales'] < 0, 'Sales'] = avg_sales_year"
   ]
  },
  {
   "cell_type": "code",
   "execution_count": 9,
   "id": "642605ce",
   "metadata": {},
   "outputs": [],
   "source": [
    "# Convert Sales column to integer values\n",
    "df['Sales'] = df['Sales'].astype(int)"
   ]
  },
  {
   "cell_type": "code",
   "execution_count": 10,
   "id": "fefe491d",
   "metadata": {},
   "outputs": [],
   "source": [
    "# Write the cleaned data back to the CSV file\n",
    "df.to_csv(file_path, index=False)"
   ]
  },
  {
   "cell_type": "code",
   "execution_count": 11,
   "id": "1badaa0d",
   "metadata": {},
   "outputs": [],
   "source": [
    "#We found no duplicates in this file, the only problem were missing values for the release date and values that were inferior\n",
    "#or superior to 2023. Same thing for the sales the only problem were the missing values."
   ]
  }
 ],
 "metadata": {
  "kernelspec": {
   "display_name": "Python 3 (ipykernel)",
   "language": "python",
   "name": "python3"
  },
  "language_info": {
   "codemirror_mode": {
    "name": "ipython",
    "version": 3
   },
   "file_extension": ".py",
   "mimetype": "text/x-python",
   "name": "python",
   "nbconvert_exporter": "python",
   "pygments_lexer": "ipython3",
   "version": "3.10.9"
  }
 },
 "nbformat": 4,
 "nbformat_minor": 5
}
