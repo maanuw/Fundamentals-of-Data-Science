{
 "cells": [
  {
   "cell_type": "code",
   "execution_count": 74,
   "id": "5e690904",
   "metadata": {},
   "outputs": [],
   "source": [
    "#Imports\n",
    "import pandas as pd\n",
    "import numpy as np\n",
    "from sklearn.tree import DecisionTreeClassifier # Import Decision Tree Classifier\n",
    "from sklearn.model_selection import train_test_split # Import train_test_split function\n",
    "from sklearn import metrics #Import scikit-learn metrics module for accuracy calculation\n",
    "from sklearn.metrics import classification_report\n",
    "from sklearn.model_selection import KFold\n",
    "from sklearn.ensemble import GradientBoostingClassifier\n",
    "from sklearn.ensemble import RandomForestClassifier\n",
    "from sklearn.metrics import accuracy_score, confusion_matrix, precision_score, recall_score, ConfusionMatrixDisplay\n",
    "from sklearn.model_selection import RandomizedSearchCV, train_test_split\n",
    "from scipy.stats import randint"
   ]
  },
  {
   "cell_type": "markdown",
   "id": "9026c711",
   "metadata": {},
   "source": [
    "# 1.0 Classification Using Decision Tree Model"
   ]
  },
  {
   "cell_type": "markdown",
   "id": "50e0ff2d",
   "metadata": {},
   "source": [
    "### Loading Data"
   ]
  },
  {
   "cell_type": "code",
   "execution_count": 75,
   "id": "9b4fa53c",
   "metadata": {},
   "outputs": [
    {
     "data": {
      "text/html": [
       "<div>\n",
       "<style scoped>\n",
       "    .dataframe tbody tr th:only-of-type {\n",
       "        vertical-align: middle;\n",
       "    }\n",
       "\n",
       "    .dataframe tbody tr th {\n",
       "        vertical-align: top;\n",
       "    }\n",
       "\n",
       "    .dataframe thead th {\n",
       "        text-align: right;\n",
       "    }\n",
       "</style>\n",
       "<table border=\"1\" class=\"dataframe\">\n",
       "  <thead>\n",
       "    <tr style=\"text-align: right;\">\n",
       "      <th></th>\n",
       "      <th>rank</th>\n",
       "      <th>name</th>\n",
       "      <th>platform</th>\n",
       "      <th>year</th>\n",
       "      <th>genre</th>\n",
       "      <th>publisher</th>\n",
       "      <th>na_sales</th>\n",
       "      <th>eu_sales</th>\n",
       "      <th>jp_sales</th>\n",
       "      <th>other_sales</th>\n",
       "      <th>global_sales</th>\n",
       "    </tr>\n",
       "  </thead>\n",
       "  <tbody>\n",
       "    <tr>\n",
       "      <th>0.0</th>\n",
       "      <td>14691</td>\n",
       "      <td>Cossacks: European Wars</td>\n",
       "      <td>PC</td>\n",
       "      <td>2001</td>\n",
       "      <td>Strategy</td>\n",
       "      <td>Strategy First</td>\n",
       "      <td>0.0</td>\n",
       "      <td>0.02</td>\n",
       "      <td>0.0</td>\n",
       "      <td>0.0</td>\n",
       "      <td>0.03</td>\n",
       "    </tr>\n",
       "    <tr>\n",
       "      <th>1.0</th>\n",
       "      <td>61</td>\n",
       "      <td>Just Dance 3</td>\n",
       "      <td>Wii</td>\n",
       "      <td>2011</td>\n",
       "      <td>Misc</td>\n",
       "      <td>Ubisoft</td>\n",
       "      <td>6.05</td>\n",
       "      <td>3.15</td>\n",
       "      <td>0.0</td>\n",
       "      <td>1.07</td>\n",
       "      <td>10.26</td>\n",
       "    </tr>\n",
       "    <tr>\n",
       "      <th>2.0</th>\n",
       "      <td>69</td>\n",
       "      <td>Just Dance 2</td>\n",
       "      <td>Wii</td>\n",
       "      <td>2010</td>\n",
       "      <td>Misc</td>\n",
       "      <td>Ubisoft</td>\n",
       "      <td>5.84</td>\n",
       "      <td>2.89</td>\n",
       "      <td>0.01</td>\n",
       "      <td>0.78</td>\n",
       "      <td>9.52</td>\n",
       "    </tr>\n",
       "    <tr>\n",
       "      <th>3.0</th>\n",
       "      <td>103</td>\n",
       "      <td>Just Dance</td>\n",
       "      <td>Wii</td>\n",
       "      <td>2009</td>\n",
       "      <td>Misc</td>\n",
       "      <td>Ubisoft</td>\n",
       "      <td>3.51</td>\n",
       "      <td>3.03</td>\n",
       "      <td>0.0</td>\n",
       "      <td>0.73</td>\n",
       "      <td>7.27</td>\n",
       "    </tr>\n",
       "    <tr>\n",
       "      <th>4.0</th>\n",
       "      <td>112</td>\n",
       "      <td>Just Dance 4</td>\n",
       "      <td>Wii</td>\n",
       "      <td>2012</td>\n",
       "      <td>Misc</td>\n",
       "      <td>Ubisoft</td>\n",
       "      <td>4.14</td>\n",
       "      <td>2.21</td>\n",
       "      <td>0.0</td>\n",
       "      <td>0.56</td>\n",
       "      <td>6.91</td>\n",
       "    </tr>\n",
       "  </tbody>\n",
       "</table>\n",
       "</div>"
      ],
      "text/plain": [
       "      rank                     name platform  year     genre       publisher  \\\n",
       "0.0  14691  Cossacks: European Wars       PC  2001  Strategy  Strategy First   \n",
       "1.0     61             Just Dance 3      Wii  2011      Misc         Ubisoft   \n",
       "2.0     69             Just Dance 2      Wii  2010      Misc         Ubisoft   \n",
       "3.0    103               Just Dance      Wii  2009      Misc         Ubisoft   \n",
       "4.0    112             Just Dance 4      Wii  2012      Misc         Ubisoft   \n",
       "\n",
       "    na_sales eu_sales jp_sales other_sales global_sales  \n",
       "0.0      0.0     0.02      0.0         0.0         0.03  \n",
       "1.0     6.05     3.15      0.0        1.07        10.26  \n",
       "2.0     5.84     2.89     0.01        0.78         9.52  \n",
       "3.0     3.51     3.03      0.0        0.73         7.27  \n",
       "4.0     4.14     2.21      0.0        0.56         6.91  "
      ]
     },
     "execution_count": 75,
     "metadata": {},
     "output_type": "execute_result"
    }
   ],
   "source": [
    "col_names = ['rank', 'name', 'platform', 'year', 'genre', 'publisher', 'na_sales', 'eu_sales', 'jp_sales', 'other_sales', 'global_sales']\n",
    "# load dataset\n",
    "sales = pd.read_csv(\"./assets/sales_table.csv\", header=None, names=col_names)\n",
    "# Removing the first row since it has duplicate column names.\n",
    "sales = sales.tail(-1)\n",
    "sales.head()"
   ]
  },
  {
   "cell_type": "code",
   "execution_count": 76,
   "id": "10342245",
   "metadata": {},
   "outputs": [
    {
     "data": {
      "text/html": [
       "<div>\n",
       "<style scoped>\n",
       "    .dataframe tbody tr th:only-of-type {\n",
       "        vertical-align: middle;\n",
       "    }\n",
       "\n",
       "    .dataframe tbody tr th {\n",
       "        vertical-align: top;\n",
       "    }\n",
       "\n",
       "    .dataframe thead th {\n",
       "        text-align: right;\n",
       "    }\n",
       "</style>\n",
       "<table border=\"1\" class=\"dataframe\">\n",
       "  <thead>\n",
       "    <tr style=\"text-align: right;\">\n",
       "      <th></th>\n",
       "      <th>rank</th>\n",
       "      <th>name</th>\n",
       "      <th>platform</th>\n",
       "      <th>year</th>\n",
       "      <th>genre</th>\n",
       "      <th>publisher</th>\n",
       "      <th>na_sales</th>\n",
       "      <th>eu_sales</th>\n",
       "      <th>jp_sales</th>\n",
       "      <th>other_sales</th>\n",
       "      <th>global_sales</th>\n",
       "    </tr>\n",
       "  </thead>\n",
       "  <tbody>\n",
       "    <tr>\n",
       "      <th>0.0</th>\n",
       "      <td>14691</td>\n",
       "      <td>Cossacks: European Wars</td>\n",
       "      <td>PC</td>\n",
       "      <td>2001</td>\n",
       "      <td>Strategy</td>\n",
       "      <td>Strategy First</td>\n",
       "      <td>0.00</td>\n",
       "      <td>0.02</td>\n",
       "      <td>0.00</td>\n",
       "      <td>0.00</td>\n",
       "      <td>0.03</td>\n",
       "    </tr>\n",
       "    <tr>\n",
       "      <th>1.0</th>\n",
       "      <td>61</td>\n",
       "      <td>Just Dance 3</td>\n",
       "      <td>Wii</td>\n",
       "      <td>2011</td>\n",
       "      <td>Misc</td>\n",
       "      <td>Ubisoft</td>\n",
       "      <td>6.05</td>\n",
       "      <td>3.15</td>\n",
       "      <td>0.00</td>\n",
       "      <td>1.07</td>\n",
       "      <td>10.26</td>\n",
       "    </tr>\n",
       "    <tr>\n",
       "      <th>2.0</th>\n",
       "      <td>69</td>\n",
       "      <td>Just Dance 2</td>\n",
       "      <td>Wii</td>\n",
       "      <td>2010</td>\n",
       "      <td>Misc</td>\n",
       "      <td>Ubisoft</td>\n",
       "      <td>5.84</td>\n",
       "      <td>2.89</td>\n",
       "      <td>0.01</td>\n",
       "      <td>0.78</td>\n",
       "      <td>9.52</td>\n",
       "    </tr>\n",
       "    <tr>\n",
       "      <th>3.0</th>\n",
       "      <td>103</td>\n",
       "      <td>Just Dance</td>\n",
       "      <td>Wii</td>\n",
       "      <td>2009</td>\n",
       "      <td>Misc</td>\n",
       "      <td>Ubisoft</td>\n",
       "      <td>3.51</td>\n",
       "      <td>3.03</td>\n",
       "      <td>0.00</td>\n",
       "      <td>0.73</td>\n",
       "      <td>7.27</td>\n",
       "    </tr>\n",
       "    <tr>\n",
       "      <th>4.0</th>\n",
       "      <td>112</td>\n",
       "      <td>Just Dance 4</td>\n",
       "      <td>Wii</td>\n",
       "      <td>2012</td>\n",
       "      <td>Misc</td>\n",
       "      <td>Ubisoft</td>\n",
       "      <td>4.14</td>\n",
       "      <td>2.21</td>\n",
       "      <td>0.00</td>\n",
       "      <td>0.56</td>\n",
       "      <td>6.91</td>\n",
       "    </tr>\n",
       "  </tbody>\n",
       "</table>\n",
       "</div>"
      ],
      "text/plain": [
       "      rank                     name platform  year     genre       publisher  \\\n",
       "0.0  14691  Cossacks: European Wars       PC  2001  Strategy  Strategy First   \n",
       "1.0     61             Just Dance 3      Wii  2011      Misc         Ubisoft   \n",
       "2.0     69             Just Dance 2      Wii  2010      Misc         Ubisoft   \n",
       "3.0    103               Just Dance      Wii  2009      Misc         Ubisoft   \n",
       "4.0    112             Just Dance 4      Wii  2012      Misc         Ubisoft   \n",
       "\n",
       "     na_sales  eu_sales  jp_sales  other_sales  global_sales  \n",
       "0.0      0.00      0.02      0.00         0.00          0.03  \n",
       "1.0      6.05      3.15      0.00         1.07         10.26  \n",
       "2.0      5.84      2.89      0.01         0.78          9.52  \n",
       "3.0      3.51      3.03      0.00         0.73          7.27  \n",
       "4.0      4.14      2.21      0.00         0.56          6.91  "
      ]
     },
     "execution_count": 76,
     "metadata": {},
     "output_type": "execute_result"
    }
   ],
   "source": [
    "# Converting attributes from string to a more relevant data type.\n",
    "sales['rank'] = sales['rank'].astype(int)\n",
    "sales['year'] = sales['year'].astype(int)\n",
    "sales['na_sales'] = sales['na_sales'].astype(float)\n",
    "sales['eu_sales'] = sales['eu_sales'].astype(float)\n",
    "sales['jp_sales'] = sales['jp_sales'].astype(float)\n",
    "sales['other_sales'] = sales['other_sales'].astype(float)\n",
    "sales['global_sales'] = sales['global_sales'].astype(float)\n",
    "sales.head()"
   ]
  },
  {
   "cell_type": "code",
   "execution_count": 77,
   "id": "90abee57",
   "metadata": {},
   "outputs": [
    {
     "name": "stdout",
     "output_type": "stream",
     "text": [
      "<class 'pandas.core.frame.DataFrame'>\n",
      "Float64Index: 2338 entries, 0.0 to 2337.0\n",
      "Data columns (total 11 columns):\n",
      " #   Column        Non-Null Count  Dtype  \n",
      "---  ------        --------------  -----  \n",
      " 0   rank          2338 non-null   int64  \n",
      " 1   name          2338 non-null   object \n",
      " 2   platform      2338 non-null   object \n",
      " 3   year          2338 non-null   int64  \n",
      " 4   genre         2338 non-null   object \n",
      " 5   publisher     2338 non-null   object \n",
      " 6   na_sales      2338 non-null   float64\n",
      " 7   eu_sales      2338 non-null   float64\n",
      " 8   jp_sales      2338 non-null   float64\n",
      " 9   other_sales   2338 non-null   float64\n",
      " 10  global_sales  2338 non-null   float64\n",
      "dtypes: float64(5), int64(2), object(4)\n",
      "memory usage: 219.2+ KB\n"
     ]
    }
   ],
   "source": [
    "sales.info()"
   ]
  },
  {
   "cell_type": "code",
   "execution_count": 78,
   "id": "00c42886",
   "metadata": {},
   "outputs": [
    {
     "name": "stdout",
     "output_type": "stream",
     "text": [
      "<class 'pandas.core.frame.DataFrame'>\n",
      "Float64Index: 2338 entries, 0.0 to 2337.0\n",
      "Data columns (total 11 columns):\n",
      " #   Column        Non-Null Count  Dtype   \n",
      "---  ------        --------------  -----   \n",
      " 0   rank          2338 non-null   int64   \n",
      " 1   name          2338 non-null   object  \n",
      " 2   platform      2338 non-null   category\n",
      " 3   year          2338 non-null   int64   \n",
      " 4   genre         2338 non-null   category\n",
      " 5   publisher     2338 non-null   category\n",
      " 6   na_sales      2338 non-null   float64 \n",
      " 7   eu_sales      2338 non-null   float64 \n",
      " 8   jp_sales      2338 non-null   float64 \n",
      " 9   other_sales   2338 non-null   float64 \n",
      " 10  global_sales  2338 non-null   float64 \n",
      "dtypes: category(3), float64(5), int64(2), object(1)\n",
      "memory usage: 173.0+ KB\n"
     ]
    }
   ],
   "source": [
    "# Encoding the publisher and platform attributes for training the model.\n",
    "sales.platform = pd.Categorical(pd.factorize(sales.platform)[0])\n",
    "sales.publisher = pd.Categorical(pd.factorize(sales.publisher)[0])\n",
    "sales.genre = pd.Categorical(pd.factorize(sales.genre)[0])\n",
    "sales.info()"
   ]
  },
  {
   "cell_type": "markdown",
   "id": "1fb45ba8",
   "metadata": {},
   "source": [
    "### Feature Selection"
   ]
  },
  {
   "cell_type": "code",
   "execution_count": 79,
   "id": "16d6856b",
   "metadata": {},
   "outputs": [],
   "source": [
    "#split dataset in features and target variable\n",
    "feature_cols = ['rank', 'publisher','year', 'genre', 'na_sales', 'eu_sales', 'jp_sales', 'other_sales', 'global_sales']\n",
    "X = sales[feature_cols] # Features\n",
    "y = sales.platform # Target variable"
   ]
  },
  {
   "cell_type": "markdown",
   "id": "32b2f2e7",
   "metadata": {},
   "source": [
    "### Spitting the Data"
   ]
  },
  {
   "cell_type": "code",
   "execution_count": 80,
   "id": "da6341ed",
   "metadata": {},
   "outputs": [],
   "source": [
    "# Split dataset into training set and test set\n",
    "X_train, X_test, y_train, y_test = train_test_split(X, y, test_size=0.3, random_state=1) # 70% training and 30% test"
   ]
  },
  {
   "cell_type": "markdown",
   "id": "8aab2774",
   "metadata": {},
   "source": [
    "### Building Decision Tree Model"
   ]
  },
  {
   "cell_type": "code",
   "execution_count": 81,
   "id": "63640ef5",
   "metadata": {},
   "outputs": [],
   "source": [
    "# Create Decision Tree classifer object\n",
    "clf = DecisionTreeClassifier()\n",
    "\n",
    "# Train Decision Tree Classifer\n",
    "clf = clf.fit(X_train,y_train)\n",
    "\n",
    "#Predict the response for test dataset\n",
    "y_pred = clf.predict(X_test)"
   ]
  },
  {
   "cell_type": "markdown",
   "id": "9ea95499",
   "metadata": {},
   "source": [
    "### Evaluation of the Decision Tree Model"
   ]
  },
  {
   "cell_type": "code",
   "execution_count": 84,
   "id": "754e44e3",
   "metadata": {},
   "outputs": [
    {
     "name": "stdout",
     "output_type": "stream",
     "text": [
      "Accuracy: 0.45014245014245013\n",
      "Precision: 0.45014245014245013\n",
      "Recall: 0.45014245014245013\n"
     ]
    }
   ],
   "source": [
    "# Model Accuracy, how often is the classifier correct?\n",
    "print(\"Accuracy:\",metrics.accuracy_score(y_test, y_pred))\n",
    "pre = precision_score(y_test, y_pred, average='micro')\n",
    "re = recall_score(y_test, y_pred, average='micro')\n",
    "print(\"Precision:\", pre)\n",
    "print(\"Recall:\", re)"
   ]
  },
  {
   "cell_type": "markdown",
   "id": "eede7dc6",
   "metadata": {},
   "source": [
    "# 2.0 Classification Using Gradient Boosting"
   ]
  },
  {
   "cell_type": "markdown",
   "id": "262d4b02",
   "metadata": {},
   "source": [
    "### Building Gradient Boosting Model"
   ]
  },
  {
   "cell_type": "code",
   "execution_count": 85,
   "id": "a0b8eacf",
   "metadata": {},
   "outputs": [
    {
     "data": {
      "text/html": [
       "<style>#sk-container-id-3 {color: black;background-color: white;}#sk-container-id-3 pre{padding: 0;}#sk-container-id-3 div.sk-toggleable {background-color: white;}#sk-container-id-3 label.sk-toggleable__label {cursor: pointer;display: block;width: 100%;margin-bottom: 0;padding: 0.3em;box-sizing: border-box;text-align: center;}#sk-container-id-3 label.sk-toggleable__label-arrow:before {content: \"▸\";float: left;margin-right: 0.25em;color: #696969;}#sk-container-id-3 label.sk-toggleable__label-arrow:hover:before {color: black;}#sk-container-id-3 div.sk-estimator:hover label.sk-toggleable__label-arrow:before {color: black;}#sk-container-id-3 div.sk-toggleable__content {max-height: 0;max-width: 0;overflow: hidden;text-align: left;background-color: #f0f8ff;}#sk-container-id-3 div.sk-toggleable__content pre {margin: 0.2em;color: black;border-radius: 0.25em;background-color: #f0f8ff;}#sk-container-id-3 input.sk-toggleable__control:checked~div.sk-toggleable__content {max-height: 200px;max-width: 100%;overflow: auto;}#sk-container-id-3 input.sk-toggleable__control:checked~label.sk-toggleable__label-arrow:before {content: \"▾\";}#sk-container-id-3 div.sk-estimator input.sk-toggleable__control:checked~label.sk-toggleable__label {background-color: #d4ebff;}#sk-container-id-3 div.sk-label input.sk-toggleable__control:checked~label.sk-toggleable__label {background-color: #d4ebff;}#sk-container-id-3 input.sk-hidden--visually {border: 0;clip: rect(1px 1px 1px 1px);clip: rect(1px, 1px, 1px, 1px);height: 1px;margin: -1px;overflow: hidden;padding: 0;position: absolute;width: 1px;}#sk-container-id-3 div.sk-estimator {font-family: monospace;background-color: #f0f8ff;border: 1px dotted black;border-radius: 0.25em;box-sizing: border-box;margin-bottom: 0.5em;}#sk-container-id-3 div.sk-estimator:hover {background-color: #d4ebff;}#sk-container-id-3 div.sk-parallel-item::after {content: \"\";width: 100%;border-bottom: 1px solid gray;flex-grow: 1;}#sk-container-id-3 div.sk-label:hover label.sk-toggleable__label {background-color: #d4ebff;}#sk-container-id-3 div.sk-serial::before {content: \"\";position: absolute;border-left: 1px solid gray;box-sizing: border-box;top: 0;bottom: 0;left: 50%;z-index: 0;}#sk-container-id-3 div.sk-serial {display: flex;flex-direction: column;align-items: center;background-color: white;padding-right: 0.2em;padding-left: 0.2em;position: relative;}#sk-container-id-3 div.sk-item {position: relative;z-index: 1;}#sk-container-id-3 div.sk-parallel {display: flex;align-items: stretch;justify-content: center;background-color: white;position: relative;}#sk-container-id-3 div.sk-item::before, #sk-container-id-3 div.sk-parallel-item::before {content: \"\";position: absolute;border-left: 1px solid gray;box-sizing: border-box;top: 0;bottom: 0;left: 50%;z-index: -1;}#sk-container-id-3 div.sk-parallel-item {display: flex;flex-direction: column;z-index: 1;position: relative;background-color: white;}#sk-container-id-3 div.sk-parallel-item:first-child::after {align-self: flex-end;width: 50%;}#sk-container-id-3 div.sk-parallel-item:last-child::after {align-self: flex-start;width: 50%;}#sk-container-id-3 div.sk-parallel-item:only-child::after {width: 0;}#sk-container-id-3 div.sk-dashed-wrapped {border: 1px dashed gray;margin: 0 0.4em 0.5em 0.4em;box-sizing: border-box;padding-bottom: 0.4em;background-color: white;}#sk-container-id-3 div.sk-label label {font-family: monospace;font-weight: bold;display: inline-block;line-height: 1.2em;}#sk-container-id-3 div.sk-label-container {text-align: center;}#sk-container-id-3 div.sk-container {/* jupyter's `normalize.less` sets `[hidden] { display: none; }` but bootstrap.min.css set `[hidden] { display: none !important; }` so we also need the `!important` here to be able to override the default hidden behavior on the sphinx rendered scikit-learn.org. See: https://github.com/scikit-learn/scikit-learn/issues/21755 */display: inline-block !important;position: relative;}#sk-container-id-3 div.sk-text-repr-fallback {display: none;}</style><div id=\"sk-container-id-3\" class=\"sk-top-container\"><div class=\"sk-text-repr-fallback\"><pre>GradientBoostingClassifier()</pre><b>In a Jupyter environment, please rerun this cell to show the HTML representation or trust the notebook. <br />On GitHub, the HTML representation is unable to render, please try loading this page with nbviewer.org.</b></div><div class=\"sk-container\" hidden><div class=\"sk-item\"><div class=\"sk-estimator sk-toggleable\"><input class=\"sk-toggleable__control sk-hidden--visually\" id=\"sk-estimator-id-3\" type=\"checkbox\" checked><label for=\"sk-estimator-id-3\" class=\"sk-toggleable__label sk-toggleable__label-arrow\">GradientBoostingClassifier</label><div class=\"sk-toggleable__content\"><pre>GradientBoostingClassifier()</pre></div></div></div></div></div>"
      ],
      "text/plain": [
       "GradientBoostingClassifier()"
      ]
     },
     "execution_count": 85,
     "metadata": {},
     "output_type": "execute_result"
    }
   ],
   "source": [
    "gradient_booster = GradientBoostingClassifier(learning_rate=0.1)\n",
    "gradient_booster.fit(X_train,y_train)\n"
   ]
  },
  {
   "cell_type": "markdown",
   "id": "fbdb7770",
   "metadata": {},
   "source": [
    "### Evaluation of the Gradient Boosting Model"
   ]
  },
  {
   "cell_type": "code",
   "execution_count": 86,
   "id": "dbee25e6",
   "metadata": {},
   "outputs": [
    {
     "name": "stdout",
     "output_type": "stream",
     "text": [
      "              precision    recall  f1-score   support\n",
      "\n",
      "           0       0.78      0.78      0.78        89\n",
      "           1       0.27      0.26      0.27        65\n",
      "           2       0.41      0.43      0.42        67\n",
      "           3       0.67      0.60      0.63        97\n",
      "           4       0.49      0.54      0.51       114\n",
      "           5       0.83      0.83      0.83       106\n",
      "           6       0.20      0.33      0.25         3\n",
      "           7       0.29      0.13      0.18        15\n",
      "           8       0.37      0.45      0.41        22\n",
      "           9       0.21      0.44      0.28        16\n",
      "          10       0.50      0.21      0.30        33\n",
      "          11       0.84      0.93      0.88        41\n",
      "          12       0.00      0.00      0.00         4\n",
      "          13       0.78      0.67      0.72        27\n",
      "          14       0.00      0.00      0.00         3\n",
      "\n",
      "    accuracy                           0.58       702\n",
      "   macro avg       0.44      0.44      0.43       702\n",
      "weighted avg       0.59      0.58      0.58       702\n",
      "\n"
     ]
    }
   ],
   "source": [
    "print(classification_report(y_test,gradient_booster.predict(X_test)))"
   ]
  },
  {
   "cell_type": "markdown",
   "id": "b176453d",
   "metadata": {},
   "source": [
    "# 3.0 Classification Using Random Forest Algorithm"
   ]
  },
  {
   "cell_type": "markdown",
   "id": "32dfd57b",
   "metadata": {},
   "source": [
    "### Building Random Forest Alogrithm Model"
   ]
  },
  {
   "cell_type": "code",
   "execution_count": 89,
   "id": "da873c7b",
   "metadata": {},
   "outputs": [],
   "source": [
    "rf = RandomForestClassifier()\n",
    "rf.fit(X_train, y_train)\n",
    "y_pred = rf.predict(X_test)"
   ]
  },
  {
   "cell_type": "markdown",
   "id": "99081f5b",
   "metadata": {},
   "source": [
    "### Evaluation of the Gradient Boosting Mode"
   ]
  },
  {
   "cell_type": "code",
   "execution_count": 92,
   "id": "581c86a4",
   "metadata": {},
   "outputs": [
    {
     "name": "stdout",
     "output_type": "stream",
     "text": [
      "Accuracy: 0.5712250712250713\n",
      "Precision: 0.5712250712250713\n",
      "Recall: 0.40499613802540024\n"
     ]
    }
   ],
   "source": [
    "accuracy = accuracy_score(y_test, y_pred)\n",
    "precision = precision_score(y_test, y_pred, average='micro')\n",
    "recall = recall_score(y_test, y_pred, average='macro')\n",
    "print(\"Accuracy:\", accuracy)\n",
    "print(\"Precision:\", precision)\n",
    "print(\"Recall:\", recall)"
   ]
  },
  {
   "cell_type": "code",
   "execution_count": null,
   "id": "581ad6de",
   "metadata": {},
   "outputs": [],
   "source": []
  }
 ],
 "metadata": {
  "kernelspec": {
   "display_name": "Python 3 (ipykernel)",
   "language": "python",
   "name": "python3"
  },
  "language_info": {
   "codemirror_mode": {
    "name": "ipython",
    "version": 3
   },
   "file_extension": ".py",
   "mimetype": "text/x-python",
   "name": "python",
   "nbconvert_exporter": "python",
   "pygments_lexer": "ipython3",
   "version": "3.10.4"
  }
 },
 "nbformat": 4,
 "nbformat_minor": 5
}
